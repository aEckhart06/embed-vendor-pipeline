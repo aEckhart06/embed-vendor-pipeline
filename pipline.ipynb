{
 "cells": [
  {
   "cell_type": "code",
   "execution_count": null,
   "id": "8ea42eb4",
   "metadata": {},
   "outputs": [],
   "source": [
    "! pip install --upgrade --user --quiet google-cloud-aiplatform google-cloud-storage tqdm pandas"
   ]
  },
  {
   "cell_type": "code",
   "execution_count": null,
   "id": "39fd4037",
   "metadata": {},
   "outputs": [],
   "source": [
    "import pandas as pd\n",
    "from google.cloud import storage, aiplatform\n",
    "from vertexai.preview.language_models import TextEmbeddingModel\n",
    "import vertexai\n",
    "import tqdm\n",
    "import time\n",
    "\n",
    "PROJECT_ID = \"unvailed-466101\"\n",
    "LOCATION = \"us-central1\"\n",
    "BUCKET_NAME = \"unvailed_test_bucket_1\"\n",
    "CSV_FILE_PATH = \"Unvailed Vendors - Supported.csv\"\n",
    "\n",
    "vertexai.init(project=PROJECT_ID, location=LOCATION)\n",
    "\n",
    "df = pd.read_csv(CSV_FILE_PATH)"
   ]
  },
  {
   "cell_type": "code",
   "execution_count": null,
   "id": "13c0094d",
   "metadata": {},
   "outputs": [],
   "source": [
    "df.rename(columns={\"page title\": \"page_title\"}, inplace=True)\n",
    "df['content'] = df['content'].str.replace(r\"\\(.*?\\)\", \"\", regex=True)\n",
    "df['content'] = df['content'].str.replace(r\"\\n\", \" \", regex=True)"
   ]
  },
  {
   "cell_type": "code",
   "execution_count": null,
   "id": "59bba5eb",
   "metadata": {},
   "outputs": [],
   "source": [
    "model = TextEmbeddingModel.from_pretrained(\"gemini-embedding-001\")\n",
    "\n",
    "def get_embeddings_wrapper(texts, batch_size=5):\n",
    "    embeddings = []\n",
    "    for i in tqdm.tqdm(range(0, len(texts), batch_size)):\n",
    "        time.sleep(1) \n",
    "        batch_texts = texts[i:i+batch_size]\n",
    "        batch_embeddings = model.get_embeddings(batch_texts)\n",
    "        embeddings.extend([embedding.values for embedding in batch_embeddings])\n",
    "    return embeddings\n",
    "\n",
    "content = df['content'].tolist()\n",
    "df['embedding'] = get_embeddings_wrapper(content)"
   ]
  },
  {
   "cell_type": "code",
   "execution_count": null,
   "id": "58517844",
   "metadata": {},
   "outputs": [],
   "source": [
    "jsonl_string = df[[\"id\", \"url\", \"page_title\", \"content\", \"embedding\"]].to_json(orient=\"records\", lines=True)\n",
    "with open(\"vendors_supported.json\", \"w\") as f:\n",
    "    f.write(jsonl_string)"
   ]
  },
  {
   "cell_type": "code",
   "execution_count": null,
   "id": "b4ee8fbc",
   "metadata": {},
   "outputs": [],
   "source": [
    "BUCKET_URI = f\"gs://unvailed_test_bucket_1\"\n",
    "! gsutil cp vendors_supported.json {BUCKET_URI}\n",
    "\n",
    "index_id = \"projects/271286489289/locations/us-central1/indexes/4143788845227311104\"\n",
    "index = aiplatform.MatchingEngineIndex(index_id)\n",
    "\n",
    "index_endpoint_id = \"projects/271286489289/locations/us-central1/indexEndpoints/8423862156717457408\"\n",
    "index_endpoint = aiplatform.MatchingEngineIndexEndpoint(index_endpoint_id)"
   ]
  },
  {
   "cell_type": "code",
   "execution_count": null,
   "id": "3ce2e39f",
   "metadata": {},
   "outputs": [],
   "source": [
    "# Refresh Index - Do this every time new data is added to the Bucket\n",
    "# gcs_path = \"gs://unvailed_test_bucket_1\"\n",
    "# index.update_embeddings(contents_delta_uri: gcs_path)"
   ]
  },
  {
   "cell_type": "code",
   "execution_count": null,
   "id": "40e15b1e",
   "metadata": {},
   "outputs": [],
   "source": [
    "user_prompt = \"What is Carl House?\"\n",
    "\n",
    "input_embeddings = get_embeddings_wrapper([user_prompt])\n",
    "\n",
    "response = index_endpoint.find_neighbors(\n",
    "    deployed_index_id=\"job_applicants_indx\",\n",
    "    queries=input_embeddings,\n",
    "    num_neighbors=5,\n",
    ")"
   ]
  },
  {
   "cell_type": "code",
   "execution_count": null,
   "id": "11ae2238",
   "metadata": {},
   "outputs": [],
   "source": [
    "import numpy as np\n",
    "\n",
    "for idx, neighbor in enumerate(response[0]):\n",
    "    id = str(neighbor.id)\n",
    "    similar = df.query(\"id == @id\", engine=\"python\")\n",
    "    print(f\"{neighbor.distance:.4f} {similar.content.values[0]}\")\n",
    "\n",
    "# print(response[0])"
   ]
  }
 ],
 "metadata": {
  "kernelspec": {
   "display_name": "myenv",
   "language": "python",
   "name": "python3"
  },
  "language_info": {
   "codemirror_mode": {
    "name": "ipython",
    "version": 3
   },
   "file_extension": ".py",
   "mimetype": "text/x-python",
   "name": "python",
   "nbconvert_exporter": "python",
   "pygments_lexer": "ipython3",
   "version": "3.11.13"
  }
 },
 "nbformat": 4,
 "nbformat_minor": 5
}
